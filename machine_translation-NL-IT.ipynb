{
 "cells": [
  {
   "cell_type": "markdown",
   "metadata": {
    "collapsed": true
   },
   "source": [
    "# Artificial Intelligence \n",
    "## Machine Translation Project Dutch to Italian\n",
    "In this notebook, I tried out my own machine translation project using memories I have worked on in the past.\n",
    "I used a previously coded project to write down the code for preparation, models and prediction.\n"
   ]
  },
  {
   "cell_type": "code",
   "execution_count": 1,
   "metadata": {},
   "outputs": [],
   "source": [
    "%load_ext autoreload\n",
    "%aimport helper, tests\n",
    "%autoreload 1"
   ]
  },
  {
   "cell_type": "code",
   "execution_count": 2,
   "metadata": {},
   "outputs": [
    {
     "name": "stderr",
     "output_type": "stream",
     "text": [
      "C:\\Users\\France\\Anaconda3\\lib\\site-packages\\h5py\\__init__.py:36: FutureWarning: Conversion of the second argument of issubdtype from `float` to `np.floating` is deprecated. In future, it will be treated as `np.float64 == np.dtype(float).type`.\n",
      "  from ._conv import register_converters as _register_converters\n",
      "Using TensorFlow backend.\n"
     ]
    }
   ],
   "source": [
    "import collections\n",
    "\n",
    "import helper\n",
    "import numpy as np\n",
    "import project_tests as tests\n",
    "\n",
    "from keras.preprocessing.text import Tokenizer\n",
    "from keras.preprocessing.sequence import pad_sequences\n",
    "from keras.models import Model\n",
    "from keras.layers import GRU, Input, Dense, TimeDistributed, Activation, RepeatVector, Bidirectional, LSTM\n",
    "from keras.layers.embeddings import Embedding\n",
    "from keras.optimizers import Adam\n",
    "from keras.losses import sparse_categorical_crossentropy\n",
    "from keras.models import Sequential\n",
    "import re"
   ]
  },
  {
   "cell_type": "markdown",
   "metadata": {},
   "source": [
    "### Verify access to the GPU\n",
    "The following test applies only if you expect to be using a GPU, e.g., while running in a Udacity Workspace or using an AWS instance with GPU support. Run the next cell, and verify that the device_type is \"GPU\".\n",
    "- If the device is not GPU & you are running from a Udacity Workspace, then save your workspace with the icon at the top, then click \"enable\" at the bottom of the workspace.\n",
    "- If the device is not GPU & you are running from an AWS instance, then refer to the cloud computing instructions in the classroom to verify your setup steps."
   ]
  },
  {
   "cell_type": "code",
   "execution_count": 3,
   "metadata": {},
   "outputs": [
    {
     "name": "stdout",
     "output_type": "stream",
     "text": [
      "[name: \"/device:CPU:0\"\n",
      "device_type: \"CPU\"\n",
      "memory_limit: 268435456\n",
      "locality {\n",
      "}\n",
      "incarnation: 17080963416053755903\n",
      "]\n"
     ]
    }
   ],
   "source": [
    "from tensorflow.python.client import device_lib\n",
    "print(device_lib.list_local_devices())"
   ]
  },
  {
   "cell_type": "markdown",
   "metadata": {},
   "source": [
    "## Dataset\n",
    "The dataset is created from a translation memory in Trados format. The memory files has been made anonimous and all private data have been deleted. The format of the memory files contains all data and tags which have been elaborated into a common, simple dataset for the two languages.\n",
    "### Load Data\n",
    "The data is located in `data/testfileIT` and `data/testfileNL`. The `testfileIT` file contains Italian translation of the  source sentences in the `testfileNL` file. The code below has been run on the original bilingual file to create the two sets."
   ]
  },
  {
   "cell_type": "code",
   "execution_count": 30,
   "metadata": {},
   "outputs": [],
   "source": [
    "\n",
    "\n",
    "memoryfile=[]\n",
    "ita_file=[]\n",
    "nl_file=[]\n",
    " # Remove HTML tags using RegEx\n",
    "pattern = re.compile(r'<ut>.*?</ut>')  # tags between <ut></ut>\n",
    "\n",
    "with open('data/NL-IT.txt', encoding=\"utf8\") as f:\n",
    "    memoryfile = [line.rstrip('\\n') for line in f]\n",
    "    \n",
    "              \n",
    "ita_final = open('data/testfileIT', 'w+', encoding=\"utf8\")\n",
    "nl_final = open('data/testfileNL', 'w+', encoding=\"utf8\")\n",
    "for t in range(len(memoryfile)):\n",
    "    if memoryfile[t].startswith('<tuv lang=\"IT-IT\">'):\n",
    "        t=t+1\n",
    "        unit=memoryfile[t]\n",
    "        #print(unit)\n",
    "        unit=pattern.sub('', unit) # delete internal tags\n",
    "        unit=unit.strip('</seg>') #delete starting ending seg tag\n",
    "       # print(unit)\n",
    "        unit.lower()\n",
    "        ita_final.writelines(unit + '\\n')\n",
    "        #print(unit.encode('utf8'))\n",
    "        ita_file.append(unit)\n",
    "    if memoryfile[t].startswith('<tuv lang=\"NL-NL\">'):\n",
    "        t=t+1\n",
    "        unit=memoryfile[t]     \n",
    "        unit=pattern.sub('', unit) # delete internal tags\n",
    "        unit=unit.strip('</seg>') #delete starting ending seg tag\n",
    "        unit.lower()\n",
    "        nl_final.writelines(unit + '\\n')\n",
    "        nl_file.append(unit)\n",
    "           \n",
    "\n",
    "ita_final.close()\n",
    "nl_final.close()\n"
   ]
  },
  {
   "cell_type": "markdown",
   "metadata": {},
   "source": [
    "Load the Dutch and Italian data from these files from running the cell below."
   ]
  },
  {
   "cell_type": "code",
   "execution_count": 32,
   "metadata": {},
   "outputs": [
    {
     "name": "stdout",
     "output_type": "stream",
     "text": [
      "2650018\n",
      "2821810\n",
      "27619\n",
      "27619\n",
      "\n",
      "\n",
      "<class 'list'>\n",
      "Dataset Loaded\n"
     ]
    }
   ],
   "source": [
    "# Load dutch data\n",
    "#dutch_sentences = helper.load_data('data/testfileNL', encoding=\"utf8\")\n",
    "# Load italian data\n",
    "#italian_sentences = helper.load_data('data/testfileIT', encoding=\"utf8\")\n",
    "import os\n",
    "bron= []\n",
    "doel = []\n",
    "with open(\"data/testfileNL\", encoding=\"utf8\") as f:\n",
    "    text=f.read()\n",
    "    print(len(text))\n",
    "    bron=text.split('\\n')\n",
    "    \n",
    "with open(\"data/testfileIT\", encoding=\"utf8\") as f:\n",
    "    text=f.read()\n",
    "    print(len(text))\n",
    "    doel=text.split('\\n')\n",
    "    \n",
    "\n",
    "\n",
    "\n",
    "print(len(bron))\n",
    "print(len(doel))\n",
    "print(bron[27618])\n",
    "print(doel[27618])\n",
    "print(type(doel))\n",
    "print('Dataset Loaded')"
   ]
  },
  {
   "cell_type": "markdown",
   "metadata": {},
   "source": [
    "### Files\n",
    "Each line in `small_vocab_en` contains an Dutch sentence with the respective translation in each line.  View the first two lines from each file."
   ]
  },
  {
   "cell_type": "code",
   "execution_count": 33,
   "metadata": {},
   "outputs": [
    {
     "name": "stdout",
     "output_type": "stream",
     "text": [
      "small_vocab_nl Line 1:  Overwegende dat bij het lossen van de grondstoffen per schip gebruik wordt gemaakt van filtertrechters en overdekte transportbanden;\n",
      "small_vocab_it Line 1:  In considerazione del fatto che per lo scarico delle materie prime giunte per nave viene fatto uso di un imbuto con filtro e nastri di trasporto coperti;\n",
      "small_vocab_nl Line 2:  Ruim en comfortabel, pal aan een breed zandstrand.\n",
      "small_vocab_it Line 2:  Spazioso e confortevole, prospiciente un’ampia spiaggia.\n"
     ]
    }
   ],
   "source": [
    "for sample_i in range(2):\n",
    "    print('small_vocab_nl Line {}:  {}'.format(sample_i + 1, bron[sample_i]))\n",
    "    print('small_vocab_it Line {}:  {}'.format(sample_i + 1, doel[sample_i]))"
   ]
  },
  {
   "cell_type": "markdown",
   "metadata": {},
   "source": [
    "From looking at the sentences, you can see they have been preprocessed already.  The puncuations have been delimited using spaces. All the text have been converted to lowercase.  This should save you some time, but the text requires more preprocessing.\n",
    "### Vocabulary\n",
    "The complexity of the problem is determined by the complexity of the vocabulary.  A more complex vocabulary is a more complex problem.  Let's look at the complexity of the dataset we'll be working with."
   ]
  },
  {
   "cell_type": "code",
   "execution_count": 46,
   "metadata": {},
   "outputs": [
    {
     "name": "stdout",
     "output_type": "stream",
     "text": [
      "392958 Dutch words.\n",
      "48852 unique Dutch words.\n",
      "10 Most common words in the Dutch dataset:\n",
      "\"de\" \"van\" \"en\" \"het\" \"een\" \"in\" \"te\" \"is\" \"op\" \"met\" \"dat\" \"xx\" \"voor\" \"of\" \"aan\" \"De\" \"die\" \"niet\" \"door\" \"zijn\" \"deze\" \"worden\" \"bij\" \"om\" \"je\" \"als\" \"tot\" \"heeft\" \"wordt\" \"ook\" \"dan\" \"kan\" \"Het\" \"yy\" \"u\" \"dit\" \"uit\" \"hebben\" \"er\" \"geen\" \"-\" \"naar\" \"/xx\" \"zij\" \"over\" \"meer\" \"kunnen\" \"zich\" \"partijen\" \"c.s.\" \"onder\" \"uw\" \"zal\" \"alle\" \"•\" \"haar\" \"the\" \"In\" \"nog\" \"hun\" \"na\" \"schade\" \"andere\" \"1\" \"€\" \"maar\" \"per\" \"font=&quot;Tahoma&quot;\" \"and\" \"en/of\" \"ten\" \"complexscriptsfont=&quot;Tahoma&quot;\" \"Italiaanse\" \"al\" \"size=&quot;10&quot;\" \"Dit\" \"moet\" \"zou\" \"was\" \"&lt;cf\" \"dient\" \"Een\" \"tussen\" \"2\" \"Deze\" \"to\" \"zoals\" \"–\" \"wel\" \"ze\" \"nieuwe\" \"eigen\" \"eerste\" \"binnen\" \"goed\" \"Voor\" \"indien\" \"koe\" \"klanten\" \"recht\"\n",
      "\n",
      "415103 Italian words.\n",
      "47288 unique Italian words.\n",
      "10 Most common words in the Italian dataset:\n",
      "\"di\" \"e\" \"il\" \"in\" \"la\" \"per\" \"che\" \"a\" \"del\" \"un\" \"è\" \"non\" \"le\" \"xx\" \"della\" \"con\" \"i\" \"una\" \"si\" \"da\" \"o\" \"al\" \"sono\" \"dei\" \"Il\" \"delle\" \"nel\" \"più\" \"alla\" \"ha\" \"essere\" \"anche\" \"nella\" \"La\" \"come\" \"ad\" \"questo\" \"yy\" \"cui\" \"può\" \"In\" \"dal\" \"co.\" \"parti\" \"modo\" \"Per\" \"sia\" \"viene\" \"/xx\" \"gli\" \"stato\" \"su\" \"sul\" \"loro\" \"quanto\" \"parte\" \"dalla\" \"caso\" \"-\" \"contratto\" \"I\" \"ai\" \"Le\" \"se\" \"alle\" \"relazione\" \"tra\" \"hanno\" \"•\" \"base\" \"questa\" \"sulla\" \"lo\" \"tale\" \"danno\" \"ed\" \"font=&quot;Tahoma&quot;\" \"degli\" \"possono\" \"€\" \"e/o\" \"complexscriptsfont=&quot;Tahoma&quot;\" \"ogni\" \"size=&quot;10&quot;\" \"fatto\" \"solo\" \"1\" \"ma\" \"–\" \"nei\" \"fino\" \"deve\" \"presente\" \"già\" \"quale\" \"prima\" \"data\" \"&lt;cf\" \"due\" \"&amp;\"\n"
     ]
    }
   ],
   "source": [
    "\n",
    "\n",
    "dutch_words_counter = collections.Counter([word for sentence in bron for word in sentence.split()])\n",
    "italian_words_counter = collections.Counter([word for sentence in doel for word in sentence.split()])\n",
    "\n",
    "print('{} Dutch words.'.format(len([word for sentence in bron for word in sentence.split()])))\n",
    "print('{} unique Dutch words.'.format(len(dutch_words_counter)))\n",
    "print('10 Most common words in the Dutch dataset:')\n",
    "print('\"' + '\" \"'.join(list(zip(*dutch_words_counter.most_common(100)))[0]) + '\"')\n",
    "print()\n",
    "print('{} Italian words.'.format(len([word for sentence in doel for word in sentence.split()])))\n",
    "print('{} unique Italian words.'.format(len(italian_words_counter)))\n",
    "print('10 Most common words in the Italian dataset:')\n",
    "print('\"' + '\" \"'.join(list(zip(*italian_words_counter.most_common(100)))[0]) + '\"')"
   ]
  },
  {
   "cell_type": "markdown",
   "metadata": {},
   "source": [
    "For comparison, _Alice's Adventures in Wonderland_ contains 2,766 unique words of a total of 15,500 words.\n",
    "## Preprocess\n",
    "For this project, you won't use text data as input to your model. Instead, you'll convert the text into sequences of integers using the following preprocess methods:\n",
    "1. Tokenize the words into ids\n",
    "2. Add padding to make all the sequences the same length.\n",
    "\n",
    "Time to start preprocessing the data...\n",
    "### Tokenize (IMPLEMENTATION)\n",
    "For a neural network to predict on text data, it first has to be turned into data it can understand. Text data like \"dog\" is a sequence of ASCII character encodings.  Since a neural network is a series of multiplication and addition operations, the input data needs to be number(s).\n",
    "\n",
    "We can turn each character into a number or each word into a number.  These are called character and word ids, respectively.  Character ids are used for character level models that generate text predictions for each character.  A word level model uses word ids that generate text predictions for each word.  Word level models tend to learn better, since they are lower in complexity, so we'll use those.\n",
    "\n",
    "Turn each sentence into a sequence of words ids using Keras's [`Tokenizer`](https://keras.io/preprocessing/text/#tokenizer) function. Use this function to tokenize `dutch_sentences` and `italian_sentences` in the cell below.\n",
    "\n",
    "Running the cell will run `tokenize` on sample data and show output for debugging."
   ]
  },
  {
   "cell_type": "code",
   "execution_count": 47,
   "metadata": {},
   "outputs": [
    {
     "name": "stdout",
     "output_type": "stream",
     "text": [
      "{'the': 1, 'quick': 2, 'brown': 3, 'fox': 4, 'jumps': 5, 'over': 6, 'lazy': 7, 'dog': 8, 'a': 9, 'by': 10, 'jove': 11, 'my': 12, 'study': 13, 'of': 14, 'lexicography': 15, 'won': 16, 'prize': 17, 'this': 18, 'is': 19, 'short': 20, 'sentence': 21}\n",
      "\n",
      "Sequence 1 in x\n",
      "  Input:  The quick brown fox jumps over the lazy dog .\n",
      "  Output: [1, 2, 3, 4, 5, 6, 1, 7, 8]\n",
      "Sequence 2 in x\n",
      "  Input:  The quick brown fox jumps over the lazy dog .\n",
      "  Output: [1, 2, 3, 4, 5, 6, 1, 7, 8]\n",
      "Sequence 3 in x\n",
      "  Input:  By Jove , my quick study of lexicography won a prize .\n",
      "  Output: [10, 11, 12, 2, 13, 14, 15, 16, 9, 17]\n",
      "Sequence 4 in x\n",
      "  Input:  This is a short sentence .\n",
      "  Output: [18, 19, 9, 20, 21]\n"
     ]
    }
   ],
   "source": [
    "def tokenize(x):\n",
    "    \"\"\"\n",
    "    Tokenize x\n",
    "    :param x: List of sentences/strings to be tokenized\n",
    "    :return: Tuple of (tokenized x data, tokenizer used to tokenize x)\n",
    "    \"\"\"\n",
    "    # TODO: Implement\n",
    "    x_tk = Tokenizer()\n",
    "    x_tk.fit_on_texts(x)\n",
    "\n",
    "    return x_tk.texts_to_sequences(x), x_tk\n",
    "#run tests\n",
    "tests.test_tokenize(tokenize)\n",
    "\n",
    "# Tokenize Example output\n",
    "text_sentences = [\n",
    "    'The quick brown fox jumps over the lazy dog .',\n",
    "    'The quick brown fox jumps over the lazy dog .',\n",
    "    'By Jove , my quick study of lexicography won a prize .',\n",
    "    'This is a short sentence .']\n",
    "text_tokenized, text_tokenizer = tokenize(text_sentences)\n",
    "print(text_tokenizer.word_index)\n",
    "print()\n",
    "for sample_i, (sent, token_sent) in enumerate(zip(text_sentences, text_tokenized)):\n",
    "    print('Sequence {} in x'.format(sample_i + 1))\n",
    "    print('  Input:  {}'.format(sent))\n",
    "    print('  Output: {}'.format(token_sent))"
   ]
  },
  {
   "cell_type": "markdown",
   "metadata": {},
   "source": [
    "### Padding (IMPLEMENTATION)\n",
    "When batching the sequence of word ids together, each sequence needs to be the same length.  Since sentences are dynamic in length, we can add padding to the end of the sequences to make them the same length.\n",
    "\n",
    "Make sure all the dutch sequences have the same length and all the italian sequences have the same length by adding padding to the **end** of each sequence using Keras's [`pad_sequences`](https://keras.io/preprocessing/sequence/#pad_sequences) function."
   ]
  },
  {
   "cell_type": "code",
   "execution_count": 48,
   "metadata": {},
   "outputs": [
    {
     "name": "stdout",
     "output_type": "stream",
     "text": [
      "6\n",
      "10\n",
      "Sequence 1 in x\n",
      "  Input:  [1 2 3 4 5 6 1 7 8]\n",
      "  Output: [1 2 3 4 5 6 1 7 8 0]\n",
      "Sequence 2 in x\n",
      "  Input:  [1 2 3 4 5 6 1 7 8]\n",
      "  Output: [1 2 3 4 5 6 1 7 8 0]\n",
      "Sequence 3 in x\n",
      "  Input:  [10 11 12  2 13 14 15 16  9 17]\n",
      "  Output: [10 11 12  2 13 14 15 16  9 17]\n",
      "Sequence 4 in x\n",
      "  Input:  [18 19  9 20 21]\n",
      "  Output: [18 19  9 20 21  0  0  0  0  0]\n"
     ]
    }
   ],
   "source": [
    "def pad(x, length=None):\n",
    "    \"\"\"\n",
    "    Pad x\n",
    "    :param x: List of sequences.\n",
    "    :param length: Length to pad the sequence to.  If None, use length of longest sequence in x.\n",
    "    :return: Padded numpy array of sequences\n",
    "    \"\"\"\n",
    "    # TODO: Implement\n",
    "    if length is None:\n",
    "        length=max([len(sentence) for sentence in x])\n",
    "        \n",
    "        print(length)\n",
    "    return pad_sequences(x, maxlen=length, padding='post')\n",
    "tests.test_pad(pad)\n",
    "\n",
    "# Pad Tokenized output\n",
    "test_pad = pad(text_tokenized)\n",
    "for sample_i, (token_sent, pad_sent) in enumerate(zip(text_tokenized, test_pad)):\n",
    "    print('Sequence {} in x'.format(sample_i + 1))\n",
    "    print('  Input:  {}'.format(np.array(token_sent)))\n",
    "    print('  Output: {}'.format(pad_sent))"
   ]
  },
  {
   "cell_type": "markdown",
   "metadata": {},
   "source": [
    "### Preprocess Pipeline\n",
    "Your focus for this project is to build neural network architecture, so we won't ask you to create a preprocess pipeline.  Instead, we've provided you with the implementation of the `preprocess` function."
   ]
  },
  {
   "cell_type": "code",
   "execution_count": 53,
   "metadata": {},
   "outputs": [
    {
     "name": "stdout",
     "output_type": "stream",
     "text": [
      "410\n",
      "414\n",
      "Data Preprocessed\n",
      "Max Dutch sentence length: 410\n",
      "Max Italian sentence length: 414\n",
      "Dutch vocabulary size: 27887\n",
      "Italian vocabulary size: 25658\n"
     ]
    }
   ],
   "source": [
    "def preprocess(x, y):\n",
    "    \"\"\"\n",
    "    Preprocess x and y\n",
    "    :param x: Feature List of sentences\n",
    "    :param y: Label List of sentences\n",
    "    :return: Tuple of (Preprocessed x, Preprocessed y, x tokenizer, y tokenizer)\n",
    "    \"\"\"\n",
    "    preprocess_x, x_tk = tokenize(x)\n",
    "    preprocess_y, y_tk = tokenize(y)\n",
    "\n",
    "    preprocess_x = pad(preprocess_x)\n",
    "    preprocess_y = pad(preprocess_y)\n",
    "\n",
    "    # Keras's sparse_categorical_crossentropy function requires the labels to be in 3 dimensions\n",
    "    preprocess_y = preprocess_y.reshape(*preprocess_y.shape, 1)\n",
    "\n",
    "    return preprocess_x, preprocess_y, x_tk, y_tk\n",
    "\n",
    "preproc_dutch_sentences, preproc_italian_sentences, dutch_tokenizer, italian_tokenizer =\\\n",
    "    preprocess(bron, doel)\n",
    "    \n",
    "max_dutch_sequence_length = preproc_dutch_sentences.shape[1]\n",
    "max_italian_sequence_length = preproc_italian_sentences.shape[1]\n",
    "dutch_vocab_size = len(dutch_tokenizer.word_index)+1\n",
    "italian_vocab_size = len(italian_tokenizer.word_index)+1\n",
    "\n",
    "print('Data Preprocessed')\n",
    "print(\"Max Dutch sentence length:\", max_dutch_sequence_length)\n",
    "print(\"Max Italian sentence length:\", max_italian_sequence_length)\n",
    "print(\"Dutch vocabulary size:\", dutch_vocab_size)\n",
    "print(\"Italian vocabulary size:\", italian_vocab_size)"
   ]
  },
  {
   "cell_type": "code",
   "execution_count": null,
   "metadata": {},
   "outputs": [],
   "source": [
    "len(preproc_italian_sentences[3])"
   ]
  },
  {
   "cell_type": "code",
   "execution_count": 39,
   "metadata": {},
   "outputs": [
    {
     "data": {
      "text/plain": [
       "array([[1104,   14,   25, ...,    0,    0,    0],\n",
       "       [1452,    3, 4022, ...,    0,    0,    0],\n",
       "       [  12,  139, 2180, ...,    0,    0,    0],\n",
       "       ...,\n",
       "       [  21,  687,   17, ...,    0,    0,    0],\n",
       "       [ 121,    0,    0, ...,    0,    0,    0],\n",
       "       [   0,    0,    0, ...,    0,    0,    0]])"
      ]
     },
     "execution_count": 39,
     "metadata": {},
     "output_type": "execute_result"
    }
   ],
   "source": [
    "preproc_dutch_sentences"
   ]
  },
  {
   "cell_type": "code",
   "execution_count": 40,
   "metadata": {},
   "outputs": [
    {
     "data": {
      "text/plain": [
       "414"
      ]
     },
     "execution_count": 40,
     "metadata": {},
     "output_type": "execute_result"
    }
   ],
   "source": [
    "max_italian_sequence_length"
   ]
  },
  {
   "cell_type": "code",
   "execution_count": 41,
   "metadata": {},
   "outputs": [
    {
     "data": {
      "text/plain": [
       "410"
      ]
     },
     "execution_count": 41,
     "metadata": {},
     "output_type": "execute_result"
    }
   ],
   "source": [
    "max_dutch_sequence_length"
   ]
  },
  {
   "cell_type": "markdown",
   "metadata": {},
   "source": [
    "## Models\n",
    "In this section, you will experiment with various neural network architectures.\n",
    "You will begin by training four relatively simple architectures.\n",
    "- Model 1 is a simple RNN\n",
    "- Model 2 is a RNN with Embedding\n",
    "- Model 3 is a Bidirectional RNN\n",
    "- Model 4 is an optional Encoder-Decoder RNN\n",
    "\n",
    "After experimenting with the four simple architectures, you will construct a deeper architecture that is designed to outperform all four models.\n",
    "### Ids Back to Text\n",
    "The neural network will be translating the input to words ids, which isn't the final form we want.  We want the italian translation.  The function `logits_to_text` will bridge the gab between the logits from the neural network to the italian translation.  You'll be using this function to better understand the output of the neural network."
   ]
  },
  {
   "cell_type": "code",
   "execution_count": 54,
   "metadata": {},
   "outputs": [
    {
     "name": "stdout",
     "output_type": "stream",
     "text": [
      "`logits_to_text` function loaded.\n"
     ]
    }
   ],
   "source": [
    "def logits_to_text(logits, tokenizer):\n",
    "    \"\"\"\n",
    "    Turn logits from a neural network into text using the tokenizer\n",
    "    :param logits: Logits from a neural network\n",
    "    :param tokenizer: Keras Tokenizer fit on the labels\n",
    "    :return: String that represents the text of the logits\n",
    "    \"\"\"\n",
    "    index_to_words = {id: word for word, id in tokenizer.word_index.items()}\n",
    "    index_to_words[0] = '<PAD>'\n",
    "\n",
    "    return ' '.join([index_to_words[prediction] for prediction in np.argmax(logits, 1)])\n",
    "\n",
    "print('`logits_to_text` function loaded.')"
   ]
  },
  {
   "cell_type": "markdown",
   "metadata": {},
   "source": [
    "### Model 1: RNN (IMPLEMENTATION)\n",
    "![RNN](images/rnn.png)\n",
    "A basic RNN model is a good baseline for sequence data.  In this model, you'll build a RNN that translates dutch to italian."
   ]
  },
  {
   "cell_type": "code",
   "execution_count": 52,
   "metadata": {},
   "outputs": [
    {
     "name": "stdout",
     "output_type": "stream",
     "text": [
      "(27619, 414)\n",
      "(27619, 414, 1)\n",
      "414\n",
      "Train on 22095 samples, validate on 5524 samples\n",
      "Epoch 1/10\n"
     ]
    },
    {
     "ename": "KeyboardInterrupt",
     "evalue": "",
     "output_type": "error",
     "traceback": [
      "\u001b[1;31m---------------------------------------------------------------------------\u001b[0m",
      "\u001b[1;31mKeyboardInterrupt\u001b[0m                         Traceback (most recent call last)",
      "\u001b[1;32m<ipython-input-52-bda377d1c1d3>\u001b[0m in \u001b[0;36m<module>\u001b[1;34m()\u001b[0m\n\u001b[0;32m     37\u001b[0m     \u001b[0mdutch_vocab_size\u001b[0m\u001b[1;33m,\u001b[0m\u001b[1;33m\u001b[0m\u001b[0m\n\u001b[0;32m     38\u001b[0m     italian_vocab_size)\n\u001b[1;32m---> 39\u001b[1;33m \u001b[0msimple_rnn_model\u001b[0m\u001b[1;33m.\u001b[0m\u001b[0mfit\u001b[0m\u001b[1;33m(\u001b[0m\u001b[0mtmp_x\u001b[0m\u001b[1;33m,\u001b[0m \u001b[0mpreproc_italian_sentences\u001b[0m\u001b[1;33m,\u001b[0m \u001b[0mbatch_size\u001b[0m\u001b[1;33m=\u001b[0m\u001b[1;36m56\u001b[0m\u001b[1;33m,\u001b[0m \u001b[0mepochs\u001b[0m\u001b[1;33m=\u001b[0m\u001b[1;36m10\u001b[0m\u001b[1;33m,\u001b[0m \u001b[0mvalidation_split\u001b[0m\u001b[1;33m=\u001b[0m\u001b[1;36m0.2\u001b[0m\u001b[1;33m)\u001b[0m\u001b[1;33m\u001b[0m\u001b[0m\n\u001b[0m\u001b[0;32m     40\u001b[0m \u001b[1;33m\u001b[0m\u001b[0m\n\u001b[0;32m     41\u001b[0m \u001b[1;31m# Print prediction(s)\u001b[0m\u001b[1;33m\u001b[0m\u001b[1;33m\u001b[0m\u001b[0m\n",
      "\u001b[1;32m~\\Anaconda3\\lib\\site-packages\\keras\\engine\\training.py\u001b[0m in \u001b[0;36mfit\u001b[1;34m(self, x, y, batch_size, epochs, verbose, callbacks, validation_split, validation_data, shuffle, class_weight, sample_weight, initial_epoch, steps_per_epoch, validation_steps, **kwargs)\u001b[0m\n\u001b[0;32m   1035\u001b[0m                                         \u001b[0minitial_epoch\u001b[0m\u001b[1;33m=\u001b[0m\u001b[0minitial_epoch\u001b[0m\u001b[1;33m,\u001b[0m\u001b[1;33m\u001b[0m\u001b[0m\n\u001b[0;32m   1036\u001b[0m                                         \u001b[0msteps_per_epoch\u001b[0m\u001b[1;33m=\u001b[0m\u001b[0msteps_per_epoch\u001b[0m\u001b[1;33m,\u001b[0m\u001b[1;33m\u001b[0m\u001b[0m\n\u001b[1;32m-> 1037\u001b[1;33m                                         validation_steps=validation_steps)\n\u001b[0m\u001b[0;32m   1038\u001b[0m \u001b[1;33m\u001b[0m\u001b[0m\n\u001b[0;32m   1039\u001b[0m     def evaluate(self, x=None, y=None,\n",
      "\u001b[1;32m~\\Anaconda3\\lib\\site-packages\\keras\\engine\\training_arrays.py\u001b[0m in \u001b[0;36mfit_loop\u001b[1;34m(model, f, ins, out_labels, batch_size, epochs, verbose, callbacks, val_f, val_ins, shuffle, callback_metrics, initial_epoch, steps_per_epoch, validation_steps)\u001b[0m\n\u001b[0;32m    197\u001b[0m                     \u001b[0mins_batch\u001b[0m\u001b[1;33m[\u001b[0m\u001b[0mi\u001b[0m\u001b[1;33m]\u001b[0m \u001b[1;33m=\u001b[0m \u001b[0mins_batch\u001b[0m\u001b[1;33m[\u001b[0m\u001b[0mi\u001b[0m\u001b[1;33m]\u001b[0m\u001b[1;33m.\u001b[0m\u001b[0mtoarray\u001b[0m\u001b[1;33m(\u001b[0m\u001b[1;33m)\u001b[0m\u001b[1;33m\u001b[0m\u001b[0m\n\u001b[0;32m    198\u001b[0m \u001b[1;33m\u001b[0m\u001b[0m\n\u001b[1;32m--> 199\u001b[1;33m                 \u001b[0mouts\u001b[0m \u001b[1;33m=\u001b[0m \u001b[0mf\u001b[0m\u001b[1;33m(\u001b[0m\u001b[0mins_batch\u001b[0m\u001b[1;33m)\u001b[0m\u001b[1;33m\u001b[0m\u001b[0m\n\u001b[0m\u001b[0;32m    200\u001b[0m                 \u001b[0mouts\u001b[0m \u001b[1;33m=\u001b[0m \u001b[0mto_list\u001b[0m\u001b[1;33m(\u001b[0m\u001b[0mouts\u001b[0m\u001b[1;33m)\u001b[0m\u001b[1;33m\u001b[0m\u001b[0m\n\u001b[0;32m    201\u001b[0m                 \u001b[1;32mfor\u001b[0m \u001b[0ml\u001b[0m\u001b[1;33m,\u001b[0m \u001b[0mo\u001b[0m \u001b[1;32min\u001b[0m \u001b[0mzip\u001b[0m\u001b[1;33m(\u001b[0m\u001b[0mout_labels\u001b[0m\u001b[1;33m,\u001b[0m \u001b[0mouts\u001b[0m\u001b[1;33m)\u001b[0m\u001b[1;33m:\u001b[0m\u001b[1;33m\u001b[0m\u001b[0m\n",
      "\u001b[1;32m~\\Anaconda3\\lib\\site-packages\\keras\\backend\\tensorflow_backend.py\u001b[0m in \u001b[0;36m__call__\u001b[1;34m(self, inputs)\u001b[0m\n\u001b[0;32m   2664\u001b[0m                 \u001b[1;32mreturn\u001b[0m \u001b[0mself\u001b[0m\u001b[1;33m.\u001b[0m\u001b[0m_legacy_call\u001b[0m\u001b[1;33m(\u001b[0m\u001b[0minputs\u001b[0m\u001b[1;33m)\u001b[0m\u001b[1;33m\u001b[0m\u001b[0m\n\u001b[0;32m   2665\u001b[0m \u001b[1;33m\u001b[0m\u001b[0m\n\u001b[1;32m-> 2666\u001b[1;33m             \u001b[1;32mreturn\u001b[0m \u001b[0mself\u001b[0m\u001b[1;33m.\u001b[0m\u001b[0m_call\u001b[0m\u001b[1;33m(\u001b[0m\u001b[0minputs\u001b[0m\u001b[1;33m)\u001b[0m\u001b[1;33m\u001b[0m\u001b[0m\n\u001b[0m\u001b[0;32m   2667\u001b[0m         \u001b[1;32melse\u001b[0m\u001b[1;33m:\u001b[0m\u001b[1;33m\u001b[0m\u001b[0m\n\u001b[0;32m   2668\u001b[0m             \u001b[1;32mif\u001b[0m \u001b[0mpy_any\u001b[0m\u001b[1;33m(\u001b[0m\u001b[0mis_tensor\u001b[0m\u001b[1;33m(\u001b[0m\u001b[0mx\u001b[0m\u001b[1;33m)\u001b[0m \u001b[1;32mfor\u001b[0m \u001b[0mx\u001b[0m \u001b[1;32min\u001b[0m \u001b[0minputs\u001b[0m\u001b[1;33m)\u001b[0m\u001b[1;33m:\u001b[0m\u001b[1;33m\u001b[0m\u001b[0m\n",
      "\u001b[1;32m~\\Anaconda3\\lib\\site-packages\\keras\\backend\\tensorflow_backend.py\u001b[0m in \u001b[0;36m_call\u001b[1;34m(self, inputs)\u001b[0m\n\u001b[0;32m   2634\u001b[0m                                 \u001b[0msymbol_vals\u001b[0m\u001b[1;33m,\u001b[0m\u001b[1;33m\u001b[0m\u001b[0m\n\u001b[0;32m   2635\u001b[0m                                 session)\n\u001b[1;32m-> 2636\u001b[1;33m         \u001b[0mfetched\u001b[0m \u001b[1;33m=\u001b[0m \u001b[0mself\u001b[0m\u001b[1;33m.\u001b[0m\u001b[0m_callable_fn\u001b[0m\u001b[1;33m(\u001b[0m\u001b[1;33m*\u001b[0m\u001b[0marray_vals\u001b[0m\u001b[1;33m)\u001b[0m\u001b[1;33m\u001b[0m\u001b[0m\n\u001b[0m\u001b[0;32m   2637\u001b[0m         \u001b[1;32mreturn\u001b[0m \u001b[0mfetched\u001b[0m\u001b[1;33m[\u001b[0m\u001b[1;33m:\u001b[0m\u001b[0mlen\u001b[0m\u001b[1;33m(\u001b[0m\u001b[0mself\u001b[0m\u001b[1;33m.\u001b[0m\u001b[0moutputs\u001b[0m\u001b[1;33m)\u001b[0m\u001b[1;33m]\u001b[0m\u001b[1;33m\u001b[0m\u001b[0m\n\u001b[0;32m   2638\u001b[0m \u001b[1;33m\u001b[0m\u001b[0m\n",
      "\u001b[1;32m~\\Anaconda3\\lib\\site-packages\\tensorflow\\python\\client\\session.py\u001b[0m in \u001b[0;36m__call__\u001b[1;34m(self, *args)\u001b[0m\n\u001b[0;32m   1449\u001b[0m         \u001b[1;32mif\u001b[0m \u001b[0mself\u001b[0m\u001b[1;33m.\u001b[0m\u001b[0m_session\u001b[0m\u001b[1;33m.\u001b[0m\u001b[0m_created_with_new_api\u001b[0m\u001b[1;33m:\u001b[0m\u001b[1;33m\u001b[0m\u001b[0m\n\u001b[0;32m   1450\u001b[0m           return tf_session.TF_SessionRunCallable(\n\u001b[1;32m-> 1451\u001b[1;33m               self._session._session, self._handle, args, status, None)\n\u001b[0m\u001b[0;32m   1452\u001b[0m         \u001b[1;32melse\u001b[0m\u001b[1;33m:\u001b[0m\u001b[1;33m\u001b[0m\u001b[0m\n\u001b[0;32m   1453\u001b[0m           return tf_session.TF_DeprecatedSessionRunCallable(\n",
      "\u001b[1;31mKeyboardInterrupt\u001b[0m: "
     ]
    }
   ],
   "source": [
    "def simple_model(input_shape, output_sequence_length, dutch_vocab_size, italian_vocab_size):\n",
    "    \"\"\"\n",
    "    Build and train a basic RNN on x and y\n",
    "    :param input_shape: Tuple of input shape\n",
    "    :param output_sequence_length: Length of output sequence\n",
    "    :param dutch_vocab_size: Number of unique dutch words in the dataset\n",
    "    :param italian_vocab_size: Number of unique italian words in the dataset\n",
    "    :return: Keras model built, but not trained\n",
    "    \"\"\"\n",
    "    # TODO: Build the layers\n",
    "    learning_rate = 1e-3\n",
    "    input_seq = Input(input_shape[1:])\n",
    "   \n",
    "    rnn = GRU(64, return_sequences=True)(input_seq)\n",
    "    logits = TimeDistributed(Dense(italian_vocab_size))(rnn)\n",
    "   \n",
    "    model = Model(input_seq, Activation('softmax')(logits))\n",
    "    model.compile(loss=sparse_categorical_crossentropy,\n",
    "                  optimizer=Adam(learning_rate),\n",
    "                  metrics=['accuracy'])\n",
    "    model.get_config()\n",
    "    return model\n",
    "tests.test_simple_model(simple_model)\n",
    "\n",
    "# Reshaping the input to work with a basic RNN\n",
    "tmp_x = pad(preproc_dutch_sentences, max_italian_sequence_length)\n",
    "print(tmp_x.shape)\n",
    "print(preproc_italian_sentences.shape)\n",
    "print(preproc_italian_sentences.shape[-2])\n",
    "tmp_x = tmp_x.reshape((-1, preproc_italian_sentences.shape[-2], 1))\n",
    "#print(len(tmp_x))\n",
    "\n",
    "# Train the neural network\n",
    "simple_rnn_model = simple_model(\n",
    "    tmp_x.shape,\n",
    "    max_italian_sequence_length,\n",
    "    dutch_vocab_size,\n",
    "    italian_vocab_size)\n",
    "simple_rnn_model.fit(tmp_x, preproc_italian_sentences, batch_size=56, epochs=10, validation_split=0.2)\n",
    "\n",
    "# Print prediction(s)\n"
   ]
  },
  {
   "cell_type": "code",
   "execution_count": 381,
   "metadata": {},
   "outputs": [
    {
     "name": "stdout",
     "output_type": "stream",
     "text": [
      "e e e e e e e <PAD> <PAD> <PAD> <PAD> <PAD> <PAD> <PAD> <PAD> <PAD> <PAD> <PAD> <PAD> <PAD> <PAD> <PAD> <PAD> <PAD> <PAD> <PAD> <PAD> <PAD> <PAD> <PAD> <PAD> <PAD> <PAD> <PAD> <PAD> <PAD> <PAD> <PAD> <PAD> <PAD> <PAD> <PAD> <PAD> <PAD> <PAD> <PAD> <PAD> <PAD> <PAD> <PAD> <PAD> <PAD> <PAD> <PAD> <PAD> <PAD> <PAD> <PAD> <PAD> <PAD> <PAD> <PAD> <PAD> <PAD> <PAD> <PAD> <PAD> <PAD> <PAD> <PAD> <PAD> <PAD> <PAD> <PAD> <PAD> <PAD> <PAD> <PAD> <PAD> <PAD> <PAD> <PAD> <PAD> <PAD> <PAD> <PAD> <PAD> <PAD> <PAD> <PAD> <PAD> <PAD> <PAD> <PAD> <PAD> <PAD> <PAD> <PAD> <PAD> <PAD> <PAD> <PAD> <PAD> <PAD> <PAD> <PAD> <PAD> <PAD> <PAD> <PAD> <PAD> <PAD> <PAD> <PAD> <PAD> <PAD> <PAD> <PAD> <PAD> <PAD> <PAD> <PAD>\n"
     ]
    }
   ],
   "source": [
    "print(logits_to_text(simple_rnn_model.predict(tmp_x[:1])[0], italian_tokenizer))"
   ]
  },
  {
   "cell_type": "markdown",
   "metadata": {},
   "source": [
    "### Model 2: Embedding (IMPLEMENTATION)\n",
    "![RNN](images/embedding.png)\n",
    "You've turned the words into ids, but there's a better representation of a word.  This is called word embeddings.  An embedding is a vector representation of the word that is close to similar words in n-dimensional space, where the n represents the size of the embedding vectors.\n",
    "\n",
    "In this model, you'll create a RNN model using embedding."
   ]
  },
  {
   "cell_type": "code",
   "execution_count": 382,
   "metadata": {},
   "outputs": [
    {
     "name": "stderr",
     "output_type": "stream",
     "text": [
      "C:\\Users\\France\\Anaconda3\\lib\\site-packages\\keras\\engine\\sequential.py:109: UserWarning: `Sequential.model` is deprecated. `Sequential` is a subclass of `Model`, you can just use your `Sequential` instance directly.\n",
      "  warnings.warn('`Sequential.model` is deprecated. '\n"
     ]
    },
    {
     "name": "stdout",
     "output_type": "stream",
     "text": [
      "(255, 122)\n",
      "Train on 204 samples, validate on 51 samples\n",
      "Epoch 1/10\n",
      "204/204 [==============================] - 16s 79ms/step - loss: 7.3804 - acc: 4.8216e-04 - val_loss: 5.7528 - val_acc: 0.0235\n",
      "Epoch 2/10\n",
      "204/204 [==============================] - 1s 5ms/step - loss: 5.7107 - acc: 0.3056 - val_loss: 4.4914 - val_acc: 0.8356\n",
      "Epoch 3/10\n",
      "204/204 [==============================] - 1s 5ms/step - loss: 4.5244 - acc: 0.7796 - val_loss: 3.6779 - val_acc: 0.8428\n",
      "Epoch 4/10\n",
      "204/204 [==============================] - 1s 5ms/step - loss: 3.7918 - acc: 0.7866 - val_loss: 3.1258 - val_acc: 0.8488\n",
      "Epoch 5/10\n",
      "204/204 [==============================] - 1s 5ms/step - loss: 3.3198 - acc: 0.7905 - val_loss: 2.7972 - val_acc: 0.8520\n",
      "Epoch 6/10\n",
      "204/204 [==============================] - 1s 5ms/step - loss: 3.0579 - acc: 0.7921 - val_loss: 2.5237 - val_acc: 0.8531\n",
      "Epoch 7/10\n",
      "204/204 [==============================] - 1s 5ms/step - loss: 2.8151 - acc: 0.7929 - val_loss: 2.2101 - val_acc: 0.8541\n",
      "Epoch 8/10\n",
      "204/204 [==============================] - 1s 5ms/step - loss: 2.5294 - acc: 0.7929 - val_loss: 2.0190 - val_acc: 0.8547\n",
      "Epoch 9/10\n",
      "204/204 [==============================] - 1s 5ms/step - loss: 2.3883 - acc: 0.7930 - val_loss: 1.9457 - val_acc: 0.8549\n",
      "Epoch 10/10\n",
      "204/204 [==============================] - 1s 5ms/step - loss: 2.3015 - acc: 0.7930 - val_loss: 1.8564 - val_acc: 0.8550\n",
      "<PAD> <PAD> <PAD> <PAD> <PAD> <PAD> <PAD> <PAD> <PAD> <PAD> <PAD> <PAD> <PAD> <PAD> <PAD> <PAD> <PAD> <PAD> <PAD> <PAD> <PAD> <PAD> <PAD> <PAD> <PAD> <PAD> <PAD> <PAD> <PAD> <PAD> <PAD> <PAD> <PAD> <PAD> <PAD> <PAD> <PAD> <PAD> <PAD> <PAD> <PAD> <PAD> <PAD> <PAD> <PAD> <PAD> <PAD> <PAD> <PAD> <PAD> <PAD> <PAD> <PAD> <PAD> <PAD> <PAD> <PAD> <PAD> <PAD> <PAD> <PAD> <PAD> <PAD> <PAD> <PAD> <PAD> <PAD> <PAD> <PAD> <PAD> <PAD> <PAD> <PAD> <PAD> <PAD> <PAD> <PAD> <PAD> <PAD> <PAD> <PAD> <PAD> <PAD> <PAD> <PAD> <PAD> <PAD> <PAD> <PAD> <PAD> <PAD> <PAD> <PAD> <PAD> <PAD> <PAD> <PAD> <PAD> <PAD> <PAD> <PAD> <PAD> <PAD> <PAD> <PAD> <PAD> <PAD> <PAD> <PAD> <PAD> <PAD> <PAD> <PAD> <PAD> <PAD> <PAD> <PAD> <PAD> <PAD> <PAD> <PAD> <PAD>\n"
     ]
    }
   ],
   "source": [
    "def embed_model(input_shape, output_sequence_length, dutch_vocab_size, italian_vocab_size):\n",
    "    \"\"\"\n",
    "    Build and train a RNN model using word embedding on x and y\n",
    "    :param input_shape: Tuple of input shape\n",
    "    :param output_sequence_length: Length of output sequence\n",
    "    :param dutch_vocab_size: Number of unique dutch words in the dataset\n",
    "    :param italian_vocab_size: Number of unique italian words in the dataset\n",
    "    :return: Keras model built, but not trained\n",
    "    \"\"\"\n",
    "    batch = 32\n",
    "    learning_rate = 1e-3\n",
    "    \n",
    "\n",
    "    rnn = GRU(batch, return_sequences=True)\n",
    "    embedding=Embedding(italian_vocab_size, batch, input_length=input_shape[1])\n",
    "    logits = TimeDistributed(Dense(italian_vocab_size))\n",
    "    \n",
    "    model = Sequential()\n",
    "    model.add(embedding)\n",
    "    model.add(rnn)\n",
    "    model.add(logits)\n",
    "    model.compile(loss=sparse_categorical_crossentropy,\n",
    "                  optimizer=Adam(learning_rate),\n",
    "                  metrics=['accuracy'])\n",
    "    \n",
    "    \n",
    "    # TODO: Implement\n",
    "    return model\n",
    "tests.test_embed_model(embed_model)\n",
    "\n",
    "\n",
    "# TODO: Reshape the input\n",
    "tmp_x = pad(preproc_dutch_sentences, max_italian_sequence_length)\n",
    "print(tmp_x.shape)\n",
    "tmp_x = tmp_x.reshape((-1, preproc_italian_sentences.shape[-2]))\n",
    "\n",
    "\n",
    "# TODO: Train the neural network\n",
    "model_with_embdding= embed_model(tmp_x.shape, max_italian_sequence_length, dutch_vocab_size, italian_vocab_size)\n",
    "model_with_embdding.fit(tmp_x, preproc_italian_sentences, batch_size=128, epochs=10, validation_split=0.2)\n",
    "\n",
    "# TODO: Print prediction(s)\n",
    "print(logits_to_text(model_with_embdding.predict(tmp_x[:1])[0], italian_tokenizer))\n"
   ]
  },
  {
   "cell_type": "markdown",
   "metadata": {},
   "source": [
    "### Model 3: Bidirectional RNNs (IMPLEMENTATION)\n",
    "![RNN](images/bidirectional.png)\n",
    "One restriction of a RNN is that it can't see the future input, only the past.  This is where bidirectional recurrent neural networks come in.  They are able to see the future data."
   ]
  },
  {
   "cell_type": "code",
   "execution_count": 383,
   "metadata": {},
   "outputs": [
    {
     "name": "stdout",
     "output_type": "stream",
     "text": [
      "<PAD> <PAD> <PAD> <PAD> <PAD> <PAD> <PAD> <PAD> <PAD> <PAD> <PAD> <PAD> <PAD> <PAD> <PAD> <PAD> <PAD> <PAD> <PAD> <PAD> <PAD> <PAD> <PAD> <PAD> <PAD> <PAD> <PAD> <PAD> <PAD> <PAD> <PAD> <PAD> <PAD> <PAD> <PAD> <PAD> <PAD> <PAD> <PAD> <PAD> <PAD> <PAD> <PAD> <PAD> <PAD> <PAD> <PAD> <PAD> <PAD> <PAD> <PAD> <PAD> <PAD> <PAD> <PAD> <PAD> <PAD> <PAD> <PAD> <PAD> <PAD> <PAD> <PAD> <PAD> <PAD> <PAD> <PAD> <PAD> <PAD> <PAD> <PAD> <PAD> <PAD> <PAD> <PAD> <PAD> <PAD> <PAD> <PAD> <PAD> <PAD> <PAD> <PAD> <PAD> <PAD> <PAD> <PAD> <PAD> <PAD> <PAD> <PAD> <PAD> <PAD> <PAD> <PAD> <PAD> <PAD> <PAD> <PAD> <PAD> <PAD> <PAD> <PAD> <PAD> <PAD> <PAD> <PAD> <PAD> <PAD> <PAD> <PAD> <PAD> <PAD> <PAD> <PAD> <PAD> <PAD> <PAD> <PAD> <PAD> <PAD> <PAD>\n"
     ]
    }
   ],
   "source": [
    "# TODO: Print prediction(s)\n",
    "print(logits_to_text(model_with_embdding.predict(tmp_x[:1])[0], italian_tokenizer))"
   ]
  },
  {
   "cell_type": "code",
   "execution_count": 384,
   "metadata": {},
   "outputs": [
    {
     "name": "stderr",
     "output_type": "stream",
     "text": [
      "C:\\Users\\France\\Anaconda3\\lib\\site-packages\\keras\\engine\\sequential.py:109: UserWarning: `Sequential.model` is deprecated. `Sequential` is a subclass of `Model`, you can just use your `Sequential` instance directly.\n",
      "  warnings.warn('`Sequential.model` is deprecated. '\n"
     ]
    },
    {
     "name": "stdout",
     "output_type": "stream",
     "text": [
      "tested\n",
      "122\n",
      "Train on 204 samples, validate on 51 samples\n",
      "Epoch 1/10\n",
      "204/204 [==============================] - 27s 135ms/step - loss: 7.3491 - acc: 0.5284 - val_loss: 7.2835 - val_acc: 0.8346\n",
      "Epoch 2/10\n",
      "204/204 [==============================] - 11s 52ms/step - loss: 7.2839 - acc: 0.7771 - val_loss: 7.2157 - val_acc: 0.8545\n",
      "Epoch 3/10\n",
      "204/204 [==============================] - 11s 53ms/step - loss: 7.2067 - acc: 0.7913 - val_loss: 7.1387 - val_acc: 0.8550\n",
      "Epoch 4/10\n",
      "204/204 [==============================] - 11s 53ms/step - loss: 7.1224 - acc: 0.7926 - val_loss: 7.0644 - val_acc: 0.8550\n",
      "Epoch 5/10\n",
      "204/204 [==============================] - 11s 53ms/step - loss: 7.0556 - acc: 0.7930 - val_loss: 6.9973 - val_acc: 0.8550\n",
      "Epoch 6/10\n",
      "204/204 [==============================] - 11s 53ms/step - loss: 6.9824 - acc: 0.7930 - val_loss: 6.9320 - val_acc: 0.8550\n",
      "Epoch 7/10\n",
      "204/204 [==============================] - 11s 53ms/step - loss: 6.9246 - acc: 0.7930 - val_loss: 6.8524 - val_acc: 0.8550\n",
      "Epoch 8/10\n",
      "204/204 [==============================] - 11s 53ms/step - loss: 6.8492 - acc: 0.7929 - val_loss: 6.7320 - val_acc: 0.8550\n",
      "Epoch 9/10\n",
      "204/204 [==============================] - 11s 56ms/step - loss: 6.7377 - acc: 0.7930 - val_loss: 6.5138 - val_acc: 0.8550\n",
      "Epoch 10/10\n",
      "204/204 [==============================] - 12s 59ms/step - loss: 6.5357 - acc: 0.7930 - val_loss: 6.0514 - val_acc: 0.8550\n",
      "<PAD> <PAD> <PAD> <PAD> <PAD> <PAD> <PAD> <PAD> <PAD> <PAD> <PAD> <PAD> <PAD> <PAD> <PAD> <PAD> <PAD> <PAD> <PAD> <PAD> <PAD> <PAD> <PAD> <PAD> <PAD> <PAD> <PAD> <PAD> <PAD> <PAD> <PAD> <PAD> <PAD> <PAD> <PAD> <PAD> <PAD> <PAD> <PAD> <PAD> <PAD> <PAD> <PAD> <PAD> <PAD> <PAD> <PAD> <PAD> <PAD> <PAD> <PAD> <PAD> <PAD> <PAD> <PAD> <PAD> <PAD> <PAD> <PAD> <PAD> <PAD> <PAD> <PAD> <PAD> <PAD> <PAD> <PAD> <PAD> <PAD> <PAD> <PAD> <PAD> <PAD> <PAD> <PAD> <PAD> <PAD> <PAD> <PAD> <PAD> <PAD> <PAD> <PAD> <PAD> <PAD> <PAD> <PAD> <PAD> <PAD> <PAD> <PAD> <PAD> <PAD> <PAD> <PAD> <PAD> <PAD> <PAD> <PAD> <PAD> <PAD> <PAD> <PAD> <PAD> <PAD> <PAD> <PAD> <PAD> <PAD> <PAD> <PAD> <PAD> <PAD> <PAD> <PAD> <PAD> <PAD> <PAD> <PAD> <PAD> <PAD> <PAD>\n"
     ]
    }
   ],
   "source": [
    "def bd_model(input_shape, output_sequence_length, dutch_vocab_size, italian_vocab_size):\n",
    "    \"\"\"\n",
    "    Build and train a bidirectional RNN model on x and y\n",
    "    :param input_shape: Tuple of input shape\n",
    "    :param output_sequence_length: Length of output sequence\n",
    "    :param dutch_vocab_size: Number of unique dutch words in the dataset\n",
    "    :param italian_vocab_size: Number of unique italian words in the dataset\n",
    "    :return: Keras model built, but not trained\n",
    "    \"\"\"\n",
    "    batch = 256\n",
    "    learning_rate = 1e-3\n",
    "\n",
    "    rnn = GRU(batch, return_sequences=True, dropout=0.1)\n",
    "    bidirectional=Bidirectional(rnn, input_shape = input_shape[1:])\n",
    "    logits = TimeDistributed(Dense(italian_vocab_size, activation='softmax'))\n",
    "    \n",
    "    model = Sequential()\n",
    "    model.add(bidirectional)\n",
    "    model.add(logits)\n",
    "    model.compile(loss='sparse_categorical_crossentropy',\n",
    "                  optimizer=Adam(learning_rate),\n",
    "                  metrics=['accuracy'])\n",
    "    \n",
    "    return model\n",
    "tests.test_bd_model(bd_model)\n",
    "print('tested')\n",
    "\n",
    "\n",
    "# TODO: Reshape the input\n",
    "print(preproc_italian_sentences.shape[1])\n",
    "tmp_x = pad(preproc_dutch_sentences, preproc_italian_sentences.shape[1])\n",
    "tmp_x = tmp_x.reshape((-1, preproc_italian_sentences.shape[-2], 1))\n",
    "\n",
    "\n",
    "# TODO: Train the neural network\n",
    "bidirectional_model= bd_model(tmp_x.shape, preproc_italian_sentences.shape[1], dutch_vocab_size, italian_vocab_size)\n",
    "bidirectional_model.fit(tmp_x, preproc_italian_sentences, batch_size=1024, epochs=10, validation_split=0.2)\n",
    "\n",
    "# TODO: Print prediction(s)\n",
    "print(logits_to_text(bidirectional_model.predict(tmp_x[:1])[0], italian_tokenizer))"
   ]
  },
  {
   "cell_type": "markdown",
   "metadata": {},
   "source": [
    "### Model 4: Encoder-Decoder (OPTIONAL)\n",
    "Time to look at encoder-decoder models.  This model is made up of an encoder and decoder. The encoder creates a matrix representation of the sentence.  The decoder takes this matrix as input and predicts the translation as output.\n",
    "\n",
    "Create an encoder-decoder model in the cell below."
   ]
  },
  {
   "cell_type": "code",
   "execution_count": 285,
   "metadata": {},
   "outputs": [
    {
     "name": "stderr",
     "output_type": "stream",
     "text": [
      "C:\\Users\\France\\Anaconda3\\lib\\site-packages\\keras\\engine\\sequential.py:109: UserWarning: `Sequential.model` is deprecated. `Sequential` is a subclass of `Model`, you can just use your `Sequential` instance directly.\n",
      "  warnings.warn('`Sequential.model` is deprecated. '\n"
     ]
    },
    {
     "name": "stdout",
     "output_type": "stream",
     "text": [
      "tested\n",
      "Train on 116 samples, validate on 30 samples\n",
      "Epoch 1/10\n",
      "116/116 [==============================] - 12s 107ms/step - loss: 7.0022 - acc: 0.7814 - val_loss: 6.9422 - val_acc: 0.7962\n",
      "Epoch 2/10\n",
      "116/116 [==============================] - 3s 23ms/step - loss: 6.9433 - acc: 0.7814 - val_loss: 6.5273 - val_acc: 0.7962\n",
      "Epoch 3/10\n",
      "116/116 [==============================] - 3s 23ms/step - loss: 6.5350 - acc: 0.7814 - val_loss: 2.4388 - val_acc: 0.7962\n",
      "Epoch 4/10\n",
      "116/116 [==============================] - 3s 26ms/step - loss: 2.5024 - acc: 0.7814 - val_loss: 1.7901 - val_acc: 0.7962\n",
      "Epoch 5/10\n",
      "116/116 [==============================] - 3s 24ms/step - loss: 1.8650 - acc: 0.7814 - val_loss: 14.5133 - val_acc: 2.6882e-04\n",
      "Epoch 6/10\n",
      "116/116 [==============================] - 3s 23ms/step - loss: 14.4532 - acc: 0.0000e+00 - val_loss: 9.0307 - val_acc: 0.3398\n",
      "Epoch 7/10\n",
      "116/116 [==============================] - 3s 23ms/step - loss: 9.8526 - acc: 0.2841 - val_loss: 3.9395 - val_acc: 0.6605\n",
      "Epoch 8/10\n",
      "116/116 [==============================] - 3s 23ms/step - loss: 4.6283 - acc: 0.6091 - val_loss: 1.8205 - val_acc: 0.7962\n",
      "Epoch 9/10\n",
      "116/116 [==============================] - 3s 23ms/step - loss: 2.4747 - acc: 0.7449 - val_loss: 1.8272 - val_acc: 0.7962\n",
      "Epoch 10/10\n",
      "116/116 [==============================] - 3s 26ms/step - loss: 1.9147 - acc: 0.7814 - val_loss: 1.8879 - val_acc: 0.7962\n"
     ]
    },
    {
     "data": {
      "text/plain": [
       "<keras.callbacks.History at 0x17442811320>"
      ]
     },
     "execution_count": 285,
     "metadata": {},
     "output_type": "execute_result"
    }
   ],
   "source": [
    "def encdec_model(input_shape, output_sequence_length, dutch_vocab_size, italian_vocab_size):\n",
    "    \"\"\"\n",
    "    Build and train an encoder-decoder model on x and y\n",
    "    :param input_shape: Tuple of input shape\n",
    "    :param output_sequence_length: Length of output sequence\n",
    "    :param dutch_vocab_size: Number of unique dutch words in the dataset\n",
    "    :param italian_vocab_size: Number of unique italian words in the dataset\n",
    "    :return: Keras model built, but not trained\n",
    "    \"\"\"\n",
    "    \n",
    "\n",
    "    batch = 128\n",
    "    learning_rate = 1e-2\n",
    "\n",
    "    rnn = GRU(batch, return_sequences=True)\n",
    "    repeatVector=RepeatVector(output_sequence_length)\n",
    "    logits = TimeDistributed(Dense(italian_vocab_size, activation='softmax'))\n",
    "    \n",
    "    model = Sequential()\n",
    "    model.add(GRU(batch, input_shape = input_shape[1:]))\n",
    "    \n",
    "    model.add(repeatVector)\n",
    "    model.add(rnn)\n",
    "    model.add(logits)\n",
    "    model.compile(loss='sparse_categorical_crossentropy',\n",
    "                  optimizer=Adam(learning_rate),\n",
    "                  metrics=['accuracy'])\n",
    "    \n",
    "    return model\n",
    "# OPTIONAL: Implement\n",
    "tests.test_encdec_model(encdec_model)\n",
    "print('tested')\n",
    "\n",
    "\n",
    "# TODO: Reshape the input\n",
    "\n",
    "tmp_x = pad(preproc_dutch_sentences, preproc_italian_sentences.shape[1])\n",
    "tmp_x = tmp_x.reshape((-1, preproc_italian_sentences.shape[-2], 1))\n",
    "\n",
    "\n",
    "# TODO: Train the neural network\n",
    "encdec_model= encdec_model(tmp_x.shape, preproc_italian_sentences.shape[1], dutch_vocab_size, italian_vocab_size)\n",
    "encdec_model.fit(tmp_x, preproc_italian_sentences, batch_size=1024, epochs=10, validation_split=0.2)\n"
   ]
  },
  {
   "cell_type": "markdown",
   "metadata": {},
   "source": [
    "### Model 5: Custom (IMPLEMENTATION)\n",
    "Use everything you learned from the previous models to create a model that incorporates embedding and a bidirectional rnn into one model."
   ]
  },
  {
   "cell_type": "code",
   "execution_count": 350,
   "metadata": {},
   "outputs": [
    {
     "name": "stdout",
     "output_type": "stream",
     "text": [
      "_________________________________________________________________\n",
      "Layer (type)                 Output Shape              Param #   \n",
      "=================================================================\n",
      "embedding_67 (Embedding)     (None, 15, 128)           25472     \n",
      "_________________________________________________________________\n",
      "bidirectional_65 (Bidirectio (None, 256)               263168    \n",
      "_________________________________________________________________\n",
      "repeat_vector_48 (RepeatVect (None, 21, 256)           0         \n",
      "_________________________________________________________________\n",
      "lstm_52 (LSTM)               (None, 21, 128)           197120    \n",
      "_________________________________________________________________\n",
      "time_distributed_216 (TimeDi (None, 21, 344)           44376     \n",
      "=================================================================\n",
      "Total params: 530,136\n",
      "Trainable params: 530,136\n",
      "Non-trainable params: 0\n",
      "_________________________________________________________________\n",
      "None\n",
      "Final Model Loaded\n"
     ]
    },
    {
     "name": "stderr",
     "output_type": "stream",
     "text": [
      "C:\\Users\\France\\Anaconda3\\lib\\site-packages\\keras\\engine\\sequential.py:109: UserWarning: `Sequential.model` is deprecated. `Sequential` is a subclass of `Model`, you can just use your `Sequential` instance directly.\n",
      "  warnings.warn('`Sequential.model` is deprecated. '\n"
     ]
    }
   ],
   "source": [
    "def model_final(input_shape, output_sequence_length, dutch_vocab_size, italian_vocab_size):\n",
    "    \"\"\"\n",
    "    Build and train a model that incorporates embedding, encoder-decoder, and bidirectional RNN on x and y\n",
    "    :param input_shape: Tuple of input shape\n",
    "    :param output_sequence_length: Length of output sequence\n",
    "    :param dutch_vocab_size: Number of unique dutch words in the dataset\n",
    "    :param italian_vocab_size: Number of unique italian words in the dataset\n",
    "    :return: Keras model built, but not trained\n",
    "    \"\"\"\n",
    "    units = 128\n",
    "    learning_rate = 1e-3\n",
    "    embedding=Embedding(dutch_vocab_size, units, input_length=input_shape[1])\n",
    "    rnn = LSTM(units)\n",
    "    rnn2 = LSTM(units, return_sequences=True)\n",
    "    #print(input_shape[1])\n",
    "    #print(italian_vocab_size)\n",
    "    bidirectional=Bidirectional(rnn)\n",
    "    bidirectional2=Bidirectional(rnn2)\n",
    "    repeatVector=RepeatVector(output_sequence_length)\n",
    "    logits = TimeDistributed(Dense(italian_vocab_size, activation='softmax'))\n",
    "    \n",
    "    model = Sequential()\n",
    "    model.add(embedding)\n",
    "    model.add(bidirectional)\n",
    "    model.add(repeatVector)\n",
    "    model.add(rnn2)\n",
    "    model.add(logits)\n",
    "    model.compile(loss=sparse_categorical_crossentropy,\n",
    "                  optimizer=Adam(learning_rate),\n",
    "                  metrics=['accuracy'])\n",
    "    # TODO: Implement\n",
    "    print(model.summary())\n",
    "    #plot_model(model, to_file='model.png', show_shapes=True)\n",
    "    return model\n",
    "tests.test_model_final(model_final)\n",
    "\n",
    "\n",
    "\n",
    "print('Final Model Loaded')\n",
    "# TODO: Train the final model\n"
   ]
  },
  {
   "cell_type": "markdown",
   "metadata": {},
   "source": [
    "## Prediction (IMPLEMENTATION)"
   ]
  },
  {
   "cell_type": "code",
   "execution_count": null,
   "metadata": {},
   "outputs": [],
   "source": []
  },
  {
   "cell_type": "code",
   "execution_count": 351,
   "metadata": {},
   "outputs": [],
   "source": [
    "def final_predictions(x, y, x_tk, y_tk):\n",
    "    \"\"\"\n",
    "    Gets predictions using the final model\n",
    "    :param x: Preprocessed dutch data\n",
    "    :param y: Preprocessed italian data\n",
    "    :param x_tk: dutch tokenizer\n",
    "    :param y_tk: italian tokenizer\n",
    "    \"\"\"\n",
    "# TODO: Train neural network using model_final\n",
    "    tmp_x = pad(preproc_dutch_sentences)\n",
    "    print(tmp_x.shape)\n",
    "    print(preproc_italian_sentences.shape[1])\n",
    "    \n",
    "    model= model_final(tmp_x.shape, preproc_italian_sentences.shape[1], dutch_vocab_size, italian_vocab_size)\n",
    "    model.fit(tmp_x, preproc_italian_sentences, batch_size=2048, epochs=10, validation_split=0.2)\n",
    "\n",
    "    \n",
    "    ## DON'T EDIT ANYTHING BELOW THIS LINE\n",
    "    y_id_to_word = {value: key for key, value in y_tk.word_index.items()}\n",
    "    y_id_to_word[0] = '<PAD>'\n",
    "\n",
    "    sentence = '3 tips om uw hoorapparaten te beschermen'\n",
    "    sentence = [x_tk.word_index[word] for word in sentence.split()]\n",
    "    sentence = pad_sequences([sentence], maxlen=x.shape[-1], padding='post')\n",
    "    sentences = np.array([sentence[0], x[0]])\n",
    "    predictions = model.predict(sentences, len(sentences))\n",
    "\n",
    "    print('Sample 1:')\n",
    "    print(' '.join([y_id_to_word[np.argmax(x)] for x in predictions[0]]))\n",
    "    print('3 tips om uw hoorapparaten te beschermen')\n",
    "    print('Sample 2:')\n",
    "    print(' '.join([y_id_to_word[np.argmax(x)] for x in predictions[1]]))\n",
    "    print(' '.join([y_id_to_word[np.max(x)] for x in y[0]]))\n",
    "\n",
    "\n"
   ]
  },
  {
   "cell_type": "code",
   "execution_count": 352,
   "metadata": {},
   "outputs": [
    {
     "name": "stdout",
     "output_type": "stream",
     "text": [
      "100\n",
      "(255, 100)\n",
      "124\n",
      "_________________________________________________________________\n",
      "Layer (type)                 Output Shape              Param #   \n",
      "=================================================================\n",
      "embedding_68 (Embedding)     (None, 100, 128)          148736    \n",
      "_________________________________________________________________\n",
      "bidirectional_67 (Bidirectio (None, 256)               263168    \n",
      "_________________________________________________________________\n",
      "repeat_vector_49 (RepeatVect (None, 124, 256)          0         \n",
      "_________________________________________________________________\n",
      "lstm_54 (LSTM)               (None, 124, 128)          197120    \n",
      "_________________________________________________________________\n",
      "time_distributed_217 (TimeDi (None, 124, 1550)         199950    \n",
      "=================================================================\n",
      "Total params: 808,974\n",
      "Trainable params: 808,974\n",
      "Non-trainable params: 0\n",
      "_________________________________________________________________\n",
      "None\n",
      "Train on 204 samples, validate on 51 samples\n",
      "Epoch 1/10\n",
      "204/204 [==============================] - 35s 173ms/step - loss: 7.3472 - acc: 1.5813e-04 - val_loss: 7.3223 - val_acc: 0.8567\n",
      "Epoch 2/10\n",
      "204/204 [==============================] - 19s 94ms/step - loss: 7.3236 - acc: 0.7838 - val_loss: 7.2932 - val_acc: 0.8567\n",
      "Epoch 3/10\n",
      "204/204 [==============================] - 20s 99ms/step - loss: 7.2958 - acc: 0.7838 - val_loss: 7.2493 - val_acc: 0.8567\n",
      "Epoch 4/10\n",
      "204/204 [==============================] - 20s 97ms/step - loss: 7.2541 - acc: 0.7838 - val_loss: 7.1757 - val_acc: 0.8567\n",
      "Epoch 5/10\n",
      "204/204 [==============================] - 20s 96ms/step - loss: 7.1843 - acc: 0.7838 - val_loss: 7.0433 - val_acc: 0.8567\n",
      "Epoch 6/10\n",
      "204/204 [==============================] - 20s 98ms/step - loss: 7.0589 - acc: 0.7838 - val_loss: 6.7960 - val_acc: 0.8567\n",
      "Epoch 7/10\n",
      "204/204 [==============================] - 20s 98ms/step - loss: 6.8258 - acc: 0.7838 - val_loss: 6.3790 - val_acc: 0.8567\n",
      "Epoch 8/10\n",
      "204/204 [==============================] - 20s 99ms/step - loss: 6.4374 - acc: 0.7838 - val_loss: 5.8408 - val_acc: 0.8567\n",
      "Epoch 9/10\n",
      "204/204 [==============================] - 22s 106ms/step - loss: 5.9418 - acc: 0.7838 - val_loss: 5.3140 - val_acc: 0.8567\n",
      "Epoch 10/10\n",
      "204/204 [==============================] - 20s 98ms/step - loss: 5.4571 - acc: 0.7838 - val_loss: 4.8689 - val_acc: 0.8567\n",
      "Sample 1:\n",
      "<PAD> <PAD> <PAD> <PAD> <PAD> <PAD> <PAD> <PAD> <PAD> <PAD> <PAD> <PAD> <PAD> <PAD> <PAD> <PAD> <PAD> <PAD> <PAD> <PAD> <PAD> <PAD> <PAD> <PAD> <PAD> <PAD> <PAD> <PAD> <PAD> <PAD> <PAD> <PAD> <PAD> <PAD> <PAD> <PAD> <PAD> <PAD> <PAD> <PAD> <PAD> <PAD> <PAD> <PAD> <PAD> <PAD> <PAD> <PAD> <PAD> <PAD> <PAD> <PAD> <PAD> <PAD> <PAD> <PAD> <PAD> <PAD> <PAD> <PAD> <PAD> <PAD> <PAD> <PAD> <PAD> <PAD> <PAD> <PAD> <PAD> <PAD> <PAD> <PAD> <PAD> <PAD> <PAD> <PAD> <PAD> <PAD> <PAD> <PAD> <PAD> <PAD> <PAD> <PAD> <PAD> <PAD> <PAD> <PAD> <PAD> <PAD> <PAD> <PAD> <PAD> <PAD> <PAD> <PAD> <PAD> <PAD> <PAD> <PAD> <PAD> <PAD> <PAD> <PAD> <PAD> <PAD> <PAD> <PAD> <PAD> <PAD> <PAD> <PAD> <PAD> <PAD> <PAD> <PAD> <PAD> <PAD> <PAD> <PAD> <PAD> <PAD> <PAD> <PAD>\n",
      "3 tips om uw hoorapparaten te beschermen\n",
      "Sample 2:\n",
      "<PAD> <PAD> <PAD> <PAD> <PAD> <PAD> <PAD> <PAD> <PAD> <PAD> <PAD> <PAD> <PAD> <PAD> <PAD> <PAD> <PAD> <PAD> <PAD> <PAD> <PAD> <PAD> <PAD> <PAD> <PAD> <PAD> <PAD> <PAD> <PAD> <PAD> <PAD> <PAD> <PAD> <PAD> <PAD> <PAD> <PAD> <PAD> <PAD> <PAD> <PAD> <PAD> <PAD> <PAD> <PAD> <PAD> <PAD> <PAD> <PAD> <PAD> <PAD> <PAD> <PAD> <PAD> <PAD> <PAD> <PAD> <PAD> <PAD> <PAD> <PAD> <PAD> <PAD> <PAD> <PAD> <PAD> <PAD> <PAD> <PAD> <PAD> <PAD> <PAD> <PAD> <PAD> <PAD> <PAD> <PAD> <PAD> <PAD> <PAD> <PAD> <PAD> <PAD> <PAD> <PAD> <PAD> <PAD> <PAD> <PAD> <PAD> <PAD> <PAD> <PAD> <PAD> <PAD> <PAD> <PAD> <PAD> <PAD> <PAD> <PAD> <PAD> <PAD> <PAD> <PAD> <PAD> <PAD> <PAD> <PAD> <PAD> <PAD> <PAD> <PAD> <PAD> <PAD> <PAD> <PAD> <PAD> <PAD> <PAD> <PAD> <PAD> <PAD> <PAD>\n",
      "h1 in campeggio con gli apparecchi acustici 3 consigli utili h1 <PAD> <PAD> <PAD> <PAD> <PAD> <PAD> <PAD> <PAD> <PAD> <PAD> <PAD> <PAD> <PAD> <PAD> <PAD> <PAD> <PAD> <PAD> <PAD> <PAD> <PAD> <PAD> <PAD> <PAD> <PAD> <PAD> <PAD> <PAD> <PAD> <PAD> <PAD> <PAD> <PAD> <PAD> <PAD> <PAD> <PAD> <PAD> <PAD> <PAD> <PAD> <PAD> <PAD> <PAD> <PAD> <PAD> <PAD> <PAD> <PAD> <PAD> <PAD> <PAD> <PAD> <PAD> <PAD> <PAD> <PAD> <PAD> <PAD> <PAD> <PAD> <PAD> <PAD> <PAD> <PAD> <PAD> <PAD> <PAD> <PAD> <PAD> <PAD> <PAD> <PAD> <PAD> <PAD> <PAD> <PAD> <PAD> <PAD> <PAD> <PAD> <PAD> <PAD> <PAD> <PAD> <PAD> <PAD> <PAD> <PAD> <PAD> <PAD> <PAD> <PAD> <PAD> <PAD> <PAD> <PAD> <PAD> <PAD> <PAD> <PAD> <PAD> <PAD> <PAD> <PAD> <PAD> <PAD> <PAD> <PAD> <PAD> <PAD> <PAD> <PAD>\n"
     ]
    }
   ],
   "source": [
    "final_predictions(preproc_dutch_sentences, preproc_italian_sentences, dutch_tokenizer, italian_tokenizer)\n"
   ]
  },
  {
   "cell_type": "code",
   "execution_count": 320,
   "metadata": {},
   "outputs": [
    {
     "name": "stdout",
     "output_type": "stream",
     "text": [
      "82\n",
      "(146, 82)\n",
      "124\n",
      "_________________________________________________________________\n",
      "Layer (type)                 Output Shape              Param #   \n",
      "=================================================================\n",
      "embedding_60 (Embedding)     (None, 82, 256)           216832    \n",
      "_________________________________________________________________\n",
      "bidirectional_53 (Bidirectio (None, 512)               1050624   \n",
      "_________________________________________________________________\n",
      "repeat_vector_43 (RepeatVect (None, 124, 512)          0         \n",
      "_________________________________________________________________\n",
      "lstm_42 (LSTM)               (None, 124, 256)          787456    \n",
      "_________________________________________________________________\n",
      "time_distributed_205 (TimeDi (None, 124, 1099)         282443    \n",
      "=================================================================\n",
      "Total params: 2,337,355\n",
      "Trainable params: 2,337,355\n",
      "Non-trainable params: 0\n",
      "_________________________________________________________________\n",
      "None\n",
      "Train on 116 samples, validate on 30 samples\n",
      "Epoch 1/10\n",
      "116/116 [==============================] - 32s 272ms/step - loss: 7.0109 - acc: 0.0000e+00 - val_loss: 6.5585 - val_acc: 0.7962\n",
      "Epoch 2/10\n",
      "116/116 [==============================] - 17s 143ms/step - loss: 6.5427 - acc: 0.7814 - val_loss: 2.9977 - val_acc: 0.7962\n",
      "Epoch 3/10\n",
      "116/116 [==============================] - 17s 142ms/step - loss: 3.0547 - acc: 0.7814 - val_loss: 1.8175 - val_acc: 0.7962\n",
      "Epoch 4/10\n",
      "116/116 [==============================] - 17s 144ms/step - loss: 1.9115 - acc: 0.7814 - val_loss: 1.9058 - val_acc: 0.7962\n",
      "Epoch 5/10\n",
      "116/116 [==============================] - 17s 143ms/step - loss: 1.9714 - acc: 0.7814 - val_loss: 1.8941 - val_acc: 0.7962\n",
      "Epoch 6/10\n",
      "116/116 [==============================] - 17s 149ms/step - loss: 1.9110 - acc: 0.7814 - val_loss: 1.8879 - val_acc: 0.7962\n",
      "Epoch 7/10\n",
      "116/116 [==============================] - 17s 150ms/step - loss: 1.8631 - acc: 0.7814 - val_loss: 1.9262 - val_acc: 0.7962\n",
      "Epoch 8/10\n",
      "116/116 [==============================] - 17s 147ms/step - loss: 1.8680 - acc: 0.7814 - val_loss: 1.9335 - val_acc: 0.7962\n",
      "Epoch 9/10\n",
      "116/116 [==============================] - 17s 146ms/step - loss: 1.8559 - acc: 0.7814 - val_loss: 1.9368 - val_acc: 0.7962\n",
      "Epoch 10/10\n",
      "116/116 [==============================] - 17s 143ms/step - loss: 1.8421 - acc: 0.7814 - val_loss: 1.9242 - val_acc: 0.7962\n",
      "Sample 1:\n",
      "<PAD> <PAD> <PAD> <PAD> <PAD> <PAD> <PAD> <PAD> <PAD> <PAD> <PAD> <PAD> <PAD> <PAD> <PAD> <PAD> <PAD> <PAD> <PAD> <PAD> <PAD> <PAD> <PAD> <PAD> <PAD> <PAD> <PAD> <PAD> <PAD> <PAD> <PAD> <PAD> <PAD> <PAD> <PAD> <PAD> <PAD> <PAD> <PAD> <PAD> <PAD> <PAD> <PAD> <PAD> <PAD> <PAD> <PAD> <PAD> <PAD> <PAD> <PAD> <PAD> <PAD> <PAD> <PAD> <PAD> <PAD> <PAD> <PAD> <PAD> <PAD> <PAD> <PAD> <PAD> <PAD> <PAD> <PAD> <PAD> <PAD> <PAD> <PAD> <PAD> <PAD> <PAD> <PAD> <PAD> <PAD> <PAD> <PAD> <PAD> <PAD> <PAD> <PAD> <PAD> <PAD> <PAD> <PAD> <PAD> <PAD> <PAD> <PAD> <PAD> <PAD> <PAD> <PAD> <PAD> <PAD> <PAD> <PAD> <PAD> <PAD> <PAD> <PAD> <PAD> <PAD> <PAD> <PAD> <PAD> <PAD> <PAD> <PAD> <PAD> <PAD> <PAD> <PAD> <PAD> <PAD> <PAD> <PAD> <PAD> <PAD> <PAD> <PAD> <PAD>\n",
      "Een gehoorapparaat schoonmaken\n",
      "Sample 2:\n",
      "<PAD> <PAD> <PAD> <PAD> <PAD> <PAD> <PAD> <PAD> <PAD> <PAD> <PAD> <PAD> <PAD> <PAD> <PAD> <PAD> <PAD> <PAD> <PAD> <PAD> <PAD> <PAD> <PAD> <PAD> <PAD> <PAD> <PAD> <PAD> <PAD> <PAD> <PAD> <PAD> <PAD> <PAD> <PAD> <PAD> <PAD> <PAD> <PAD> <PAD> <PAD> <PAD> <PAD> <PAD> <PAD> <PAD> <PAD> <PAD> <PAD> <PAD> <PAD> <PAD> <PAD> <PAD> <PAD> <PAD> <PAD> <PAD> <PAD> <PAD> <PAD> <PAD> <PAD> <PAD> <PAD> <PAD> <PAD> <PAD> <PAD> <PAD> <PAD> <PAD> <PAD> <PAD> <PAD> <PAD> <PAD> <PAD> <PAD> <PAD> <PAD> <PAD> <PAD> <PAD> <PAD> <PAD> <PAD> <PAD> <PAD> <PAD> <PAD> <PAD> <PAD> <PAD> <PAD> <PAD> <PAD> <PAD> <PAD> <PAD> <PAD> <PAD> <PAD> <PAD> <PAD> <PAD> <PAD> <PAD> <PAD> <PAD> <PAD> <PAD> <PAD> <PAD> <PAD> <PAD> <PAD> <PAD> <PAD> <PAD> <PAD> <PAD> <PAD> <PAD>\n",
      "108 in campeggio con gli apparecchi acustici 3 consigli utili <PAD> <PAD> <PAD> <PAD> <PAD> <PAD> <PAD> <PAD> <PAD> <PAD> <PAD> <PAD> <PAD> <PAD> <PAD> <PAD> <PAD> <PAD> <PAD> <PAD> <PAD> <PAD> <PAD> <PAD> <PAD> <PAD> <PAD> <PAD> <PAD> <PAD> <PAD> <PAD> <PAD> <PAD> <PAD> <PAD> <PAD> <PAD> <PAD> <PAD> <PAD> <PAD> <PAD> <PAD> <PAD> <PAD> <PAD> <PAD> <PAD> <PAD> <PAD> <PAD> <PAD> <PAD> <PAD> <PAD> <PAD> <PAD> <PAD> <PAD> <PAD> <PAD> <PAD> <PAD> <PAD> <PAD> <PAD> <PAD> <PAD> <PAD> <PAD> <PAD> <PAD> <PAD> <PAD> <PAD> <PAD> <PAD> <PAD> <PAD> <PAD> <PAD> <PAD> <PAD> <PAD> <PAD> <PAD> <PAD> <PAD> <PAD> <PAD> <PAD> <PAD> <PAD> <PAD> <PAD> <PAD> <PAD> <PAD> <PAD> <PAD> <PAD> <PAD> <PAD> <PAD> <PAD> <PAD> <PAD> <PAD> <PAD> <PAD> <PAD> <PAD> <PAD>\n"
     ]
    }
   ],
   "source": [
    "final_predictions(preproc_dutch_sentences, preproc_italian_sentences, dutch_tokenizer, italian_tokenizer)"
   ]
  },
  {
   "cell_type": "markdown",
   "metadata": {},
   "source": [
    "## Submission\n",
    "When you're ready to submit, complete the following steps:\n",
    "1. Review the [rubric](https://review.udacity.com/#!/rubrics/1004/view) to ensure your submission meets all requirements to pass\n",
    "2. Generate an HTML version of this notebook\n",
    "\n",
    "  - Run the next cell to attempt automatic generation (this is the recommended method in Workspaces)\n",
    "  - Navigate to **FILE -> Download as -> HTML (.html)**\n",
    "  - Manually generate a copy using `nbconvert` from your shell terminal\n",
    "```\n",
    "$ pip install nbconvert\n",
    "$ python -m nbconvert machine_translation.ipynb\n",
    "```\n",
    "  \n",
    "3. Submit the project\n",
    "\n",
    "  - If you are in a Workspace, simply click the \"Submit Project\" button (bottom towards the right)\n",
    "  \n",
    "  - Otherwise, add the following files into a zip archive and submit them \n",
    "  - `helper.py`\n",
    "  - `machine_translation.ipynb`\n",
    "  - `machine_translation.html`\n",
    "    - You can export the notebook by navigating to **File -> Download as -> HTML (.html)**."
   ]
  },
  {
   "cell_type": "code",
   "execution_count": null,
   "metadata": {},
   "outputs": [],
   "source": [
    "!!python -m nbconvert *.ipynb"
   ]
  },
  {
   "cell_type": "markdown",
   "metadata": {},
   "source": [
    "## Optional Enhancements\n",
    "\n",
    "This project focuses on learning various network architectures for machine translation, but we don't evaluate the models according to best practices by splitting the data into separate test & training sets -- so the model accuracy is overstated. Use the [`sklearn.model_selection.train_test_split()`](http://scikit-learn.org/stable/modules/generated/sklearn.model_selection.train_test_split.html) function to create separate training & test datasets, then retrain each of the models using only the training set and evaluate the prediction accuracy using the hold out test set. Does the \"best\" model change?"
   ]
  }
 ],
 "metadata": {
  "kernelspec": {
   "display_name": "Python 3",
   "language": "python",
   "name": "python3"
  },
  "language_info": {
   "codemirror_mode": {
    "name": "ipython",
    "version": 3
   },
   "file_extension": ".py",
   "mimetype": "text/x-python",
   "name": "python",
   "nbconvert_exporter": "python",
   "pygments_lexer": "ipython3",
   "version": "3.6.4"
  }
 },
 "nbformat": 4,
 "nbformat_minor": 1
}
